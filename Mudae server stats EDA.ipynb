{
 "cells": [
  {
   "cell_type": "markdown",
   "metadata": {},
   "source": [
    "### Exploratory Data Analysis (Mudae - #wishing channel)"
   ]
  },
  {
   "cell_type": "markdown",
   "metadata": {},
   "source": [
    "Setup"
   ]
  },
  {
   "cell_type": "code",
   "execution_count": 1,
   "metadata": {},
   "outputs": [],
   "source": [
    "import pandas as pd\n",
    "import matplotlib.pyplot as plt"
   ]
  },
  {
   "cell_type": "code",
   "execution_count": 2,
   "metadata": {},
   "outputs": [],
   "source": [
    "wishing_df = pd.read_csv(\"lovely psychopaths - Mudae _ Gacha - wishing [910386112344752158].csv\")"
   ]
  },
  {
   "cell_type": "code",
   "execution_count": 3,
   "metadata": {},
   "outputs": [
    {
     "name": "stdout",
     "output_type": "stream",
     "text": [
      "<class 'pandas.core.frame.DataFrame'>\n",
      "RangeIndex: 130215 entries, 0 to 130214\n",
      "Data columns (total 6 columns):\n",
      " #   Column       Non-Null Count   Dtype \n",
      "---  ------       --------------   ----- \n",
      " 0   AuthorID     130215 non-null  int64 \n",
      " 1   Author       130215 non-null  object\n",
      " 2   Date         130215 non-null  object\n",
      " 3   Content      81170 non-null   object\n",
      " 4   Attachments  105 non-null     object\n",
      " 5   Reactions    20081 non-null   object\n",
      "dtypes: int64(1), object(5)\n",
      "memory usage: 6.0+ MB\n"
     ]
    }
   ],
   "source": [
    "wishing_df.info()"
   ]
  },
  {
   "cell_type": "code",
   "execution_count": 4,
   "metadata": {},
   "outputs": [
    {
     "data": {
      "text/plain": [
       "(130215, 6)"
      ]
     },
     "execution_count": 4,
     "metadata": {},
     "output_type": "execute_result"
    }
   ],
   "source": [
    "wishing_df.shape"
   ]
  },
  {
   "cell_type": "code",
   "execution_count": 5,
   "metadata": {},
   "outputs": [
    {
     "data": {
      "text/plain": [
       "Mudae#0807                              60222\n",
       "Raviolla#5477                           17408\n",
       "Daniel0331#0560                         10780\n",
       "kyoya#1101                               6431\n",
       "Lucashrielze6913#9712                    5429\n",
       "kyoya2#6627                              4042\n",
       "AC#3949                                  3957\n",
       "ravioli#0974                             3716\n",
       "Danyeeel_#6535                           3663\n",
       "gumer#4279                               3476\n",
       "sunnyrua#4032                            3459\n",
       "KamisatoAyato69420#8195                  1899\n",
       "emgumi69420#8911                         1519\n",
       "YaeMilk69420#9566                        1290\n",
       "disablebot69420#4303                     1290\n",
       "CallMeTreb#1183                           771\n",
       "RikuItsuki#3046                           746\n",
       "albertibay#1663                            78\n",
       "YAGPDB.xyz#8760                            16\n",
       "Carl-bot#1536                               8\n",
       "Abet's Rainbow and Unicorn Army#5245        6\n",
       "AIRHORN SOLUTIONS#0001                      3\n",
       "Ginnobi#5960                                2\n",
       "Santae#9237                                 2\n",
       "ravioli #TresLangAngKailangan#0000          1\n",
       "NQN#3454                                    1\n",
       "Name: Author, dtype: int64"
      ]
     },
     "execution_count": 5,
     "metadata": {},
     "output_type": "execute_result"
    }
   ],
   "source": [
    "wishing_df['Author'].value_counts()"
   ]
  },
  {
   "cell_type": "markdown",
   "metadata": {},
   "source": [
    "In the above, `ravioli #TresLangAngKailangan#0000` (910388388069261300)'s presence is due to NQN emotes. Normally, we would like to include these counts to make it not biased towards Nitro users who can send Nitro emotes under the same `Author`/`Author ID` of their main. But due to the count only being one (1), it won't be included for simplicity's sake."
   ]
  },
  {
   "cell_type": "code",
   "execution_count": 6,
   "metadata": {},
   "outputs": [
    {
     "data": {
      "text/plain": [
       "False"
      ]
     },
     "execution_count": 6,
     "metadata": {},
     "output_type": "execute_result"
    }
   ],
   "source": [
    "wishing_df['AuthorID'].isnull().any()"
   ]
  },
  {
   "cell_type": "code",
   "execution_count": 7,
   "metadata": {},
   "outputs": [
    {
     "data": {
      "text/plain": [
       "False"
      ]
     },
     "execution_count": 7,
     "metadata": {},
     "output_type": "execute_result"
    }
   ],
   "source": [
    "wishing_df['Author'].isnull().any()"
   ]
  },
  {
   "cell_type": "code",
   "execution_count": 8,
   "metadata": {},
   "outputs": [
    {
     "data": {
      "text/plain": [
       "False"
      ]
     },
     "execution_count": 8,
     "metadata": {},
     "output_type": "execute_result"
    }
   ],
   "source": [
    "wishing_df['Date'].isnull().any()"
   ]
  },
  {
   "cell_type": "code",
   "execution_count": 9,
   "metadata": {},
   "outputs": [
    {
     "data": {
      "text/plain": [
       "True"
      ]
     },
     "execution_count": 9,
     "metadata": {},
     "output_type": "execute_result"
    }
   ],
   "source": [
    "wishing_df['Content'].isnull().any()"
   ]
  },
  {
   "cell_type": "code",
   "execution_count": 10,
   "metadata": {},
   "outputs": [
    {
     "data": {
      "text/plain": [
       "0         False\n",
       "1          True\n",
       "2         False\n",
       "3         False\n",
       "4         False\n",
       "          ...  \n",
       "130210    False\n",
       "130211    False\n",
       "130212     True\n",
       "130213    False\n",
       "130214     True\n",
       "Name: Content, Length: 130215, dtype: bool"
      ]
     },
     "execution_count": 10,
     "metadata": {},
     "output_type": "execute_result"
    }
   ],
   "source": [
    "wishing_df['Content'].isnull()"
   ]
  },
  {
   "cell_type": "code",
   "execution_count": 11,
   "metadata": {},
   "outputs": [
    {
     "data": {
      "text/html": [
       "<div>\n",
       "<style scoped>\n",
       "    .dataframe tbody tr th:only-of-type {\n",
       "        vertical-align: middle;\n",
       "    }\n",
       "\n",
       "    .dataframe tbody tr th {\n",
       "        vertical-align: top;\n",
       "    }\n",
       "\n",
       "    .dataframe thead th {\n",
       "        text-align: right;\n",
       "    }\n",
       "</style>\n",
       "<table border=\"1\" class=\"dataframe\">\n",
       "  <thead>\n",
       "    <tr style=\"text-align: right;\">\n",
       "      <th></th>\n",
       "      <th>AuthorID</th>\n",
       "      <th>Author</th>\n",
       "      <th>Date</th>\n",
       "      <th>Content</th>\n",
       "      <th>Attachments</th>\n",
       "      <th>Reactions</th>\n",
       "    </tr>\n",
       "  </thead>\n",
       "  <tbody>\n",
       "    <tr>\n",
       "      <th>0</th>\n",
       "      <td>298454523624554501</td>\n",
       "      <td>kyoya#1101</td>\n",
       "      <td>17-Nov-21 12:30 PM</td>\n",
       "      <td>$w</td>\n",
       "      <td>NaN</td>\n",
       "      <td>NaN</td>\n",
       "    </tr>\n",
       "    <tr>\n",
       "      <th>1</th>\n",
       "      <td>432610292342587392</td>\n",
       "      <td>Mudae#0807</td>\n",
       "      <td>17-Nov-21 12:30 PM</td>\n",
       "      <td>NaN</td>\n",
       "      <td>NaN</td>\n",
       "      <td>NaN</td>\n",
       "    </tr>\n",
       "    <tr>\n",
       "      <th>2</th>\n",
       "      <td>577505465966133248</td>\n",
       "      <td>Daniel0331#0560</td>\n",
       "      <td>17-Nov-21 12:30 PM</td>\n",
       "      <td>oh god</td>\n",
       "      <td>NaN</td>\n",
       "      <td>NaN</td>\n",
       "    </tr>\n",
       "    <tr>\n",
       "      <th>3</th>\n",
       "      <td>577505465966133248</td>\n",
       "      <td>Daniel0331#0560</td>\n",
       "      <td>17-Nov-21 12:30 PM</td>\n",
       "      <td>so it begins</td>\n",
       "      <td>NaN</td>\n",
       "      <td>NaN</td>\n",
       "    </tr>\n",
       "    <tr>\n",
       "      <th>4</th>\n",
       "      <td>727511628496765030</td>\n",
       "      <td>gumer#4279</td>\n",
       "      <td>17-Nov-21 12:30 PM</td>\n",
       "      <td>$h</td>\n",
       "      <td>NaN</td>\n",
       "      <td>NaN</td>\n",
       "    </tr>\n",
       "  </tbody>\n",
       "</table>\n",
       "</div>"
      ],
      "text/plain": [
       "             AuthorID           Author                Date       Content  \\\n",
       "0  298454523624554501       kyoya#1101  17-Nov-21 12:30 PM            $w   \n",
       "1  432610292342587392       Mudae#0807  17-Nov-21 12:30 PM           NaN   \n",
       "2  577505465966133248  Daniel0331#0560  17-Nov-21 12:30 PM        oh god   \n",
       "3  577505465966133248  Daniel0331#0560  17-Nov-21 12:30 PM  so it begins   \n",
       "4  727511628496765030       gumer#4279  17-Nov-21 12:30 PM            $h   \n",
       "\n",
       "  Attachments Reactions  \n",
       "0         NaN       NaN  \n",
       "1         NaN       NaN  \n",
       "2         NaN       NaN  \n",
       "3         NaN       NaN  \n",
       "4         NaN       NaN  "
      ]
     },
     "execution_count": 11,
     "metadata": {},
     "output_type": "execute_result"
    }
   ],
   "source": [
    "wishing_df.head()"
   ]
  },
  {
   "cell_type": "markdown",
   "metadata": {},
   "source": [
    "### Data Cleaning"
   ]
  },
  {
   "cell_type": "code",
   "execution_count": 12,
   "metadata": {},
   "outputs": [],
   "source": [
    "# Make a copy of the dataframe and make changes there\n",
    "df = wishing_df.copy()"
   ]
  },
  {
   "cell_type": "markdown",
   "metadata": {},
   "source": [
    "Remove unrelated users"
   ]
  },
  {
   "cell_type": "code",
   "execution_count": 13,
   "metadata": {},
   "outputs": [],
   "source": [
    "df = df.drop(df[df['Author'] == \"YAGPDB.xyz#8760\"].index)\n",
    "df = df.drop(df[df['Author'] == \"Carl-bot#1536\"].index)\n",
    "df = df.drop(df[df['Author'] == \"Abet's Rainbow and Unicorn Army#5245\"].index)\n",
    "df = df.drop(df[df['Author'] == \"AIRHORN SOLUTIONS#0001\"].index)\n",
    "df = df.drop(df[df['Author'] == \"Santae#9237\"].index)\n",
    "df = df.drop(df[df['Author'] == \"ravioli #TresLangAngKailangan#0000\"].index)\n",
    "df = df.drop(df[df['Author'] == \"NQN#3454\"].index)"
   ]
  },
  {
   "cell_type": "markdown",
   "metadata": {},
   "source": [
    "Map alts to the main accounts"
   ]
  },
  {
   "cell_type": "code",
   "execution_count": 14,
   "metadata": {},
   "outputs": [],
   "source": [
    "df_with_alt = df.copy()  # Make a copy before mapping for use later\n",
    "\n",
    "# Exlude those without alts from the dataset\n",
    "df_with_alt = df_with_alt.drop(df_with_alt[df_with_alt['Author'] == \"Mudae#0807\"].index)  # exlude Mudae bot\n",
    "df_with_alt = df_with_alt.drop(df_with_alt[df_with_alt['Author'] == \"RikuItsuki#3046\"].index)\n",
    "df_with_alt = df_with_alt.drop(df_with_alt[df_with_alt['Author'] == \"Ginnobi#5960\"].index)"
   ]
  },
  {
   "cell_type": "code",
   "execution_count": 15,
   "metadata": {},
   "outputs": [],
   "source": [
    "# In doing this, we should still map correct values in the dictionary parameter, or else they instead be mapped to NaN\n",
    "df['Author'] = df['Author'].map({'Mudae#0807': 'Mudae#0807', \n",
    "                                 'Raviolla#5477': 'Raviolla#5477',                  'ravioli#0974': 'Raviolla#5477',\n",
    "                                 'Daniel0331#0560': 'Daniel0331#0560',              'Danyeeel_#6535': 'Daniel0331#0560',\n",
    "                                 'kyoya#1101': 'kyoya#1101',                        'kyoya2#6627': 'kyoya#1101',\n",
    "                                 'Lucashrielze6913#9712': 'Lucashrielze6913#9712',  'YaeMilk69420#9566': 'Lucashrielze6913#9712',\n",
    "                                 'AC#3949': 'AC#3949',                              'KamisatoAyato69420#8195': 'AC#3949',\n",
    "                                 'gumer#4279': 'gumer#4279',                        'emgumi69420#8911': 'gumer#4279',\n",
    "                                 'sunnyrua#4032': 'sunnyrua#4032',                  'disablebot69420#4303': 'sunnyrua#4032',\n",
    "                                 'CallMeTreb#1183': 'CallMeTreb#1183',              'albertibay#1663':'CallMeTreb#1183',\n",
    "                                 'RikuItsuki#3046': 'RikuItsuki#3046',\n",
    "                                 'Ginnobi#5960': 'Ginnobi#5960'})"
   ]
  },
  {
   "cell_type": "markdown",
   "metadata": {},
   "source": [
    "Verify cleaning was done properly:"
   ]
  },
  {
   "cell_type": "code",
   "execution_count": 16,
   "metadata": {},
   "outputs": [
    {
     "data": {
      "text/plain": [
       "False"
      ]
     },
     "execution_count": 16,
     "metadata": {},
     "output_type": "execute_result"
    }
   ],
   "source": [
    "df['Author'].isnull().any()"
   ]
  },
  {
   "cell_type": "code",
   "execution_count": 17,
   "metadata": {},
   "outputs": [
    {
     "data": {
      "text/plain": [
       "Mudae#0807               60222\n",
       "Raviolla#5477            21124\n",
       "Daniel0331#0560          14443\n",
       "kyoya#1101               10473\n",
       "Lucashrielze6913#9712     6719\n",
       "AC#3949                   5856\n",
       "gumer#4279                4995\n",
       "sunnyrua#4032             4749\n",
       "CallMeTreb#1183            849\n",
       "RikuItsuki#3046            746\n",
       "Ginnobi#5960                 2\n",
       "Name: Author, dtype: int64"
      ]
     },
     "execution_count": 17,
     "metadata": {},
     "output_type": "execute_result"
    }
   ],
   "source": [
    "df['Author'].value_counts()"
   ]
  },
  {
   "cell_type": "code",
   "execution_count": 18,
   "metadata": {},
   "outputs": [
    {
     "data": {
      "text/plain": [
       "(130178, 6)"
      ]
     },
     "execution_count": 18,
     "metadata": {},
     "output_type": "execute_result"
    }
   ],
   "source": [
    "df.shape"
   ]
  },
  {
   "cell_type": "code",
   "execution_count": 19,
   "metadata": {},
   "outputs": [
    {
     "data": {
      "text/plain": [
       "AuthorID       130178\n",
       "Author         130178\n",
       "Date           130178\n",
       "Content         81150\n",
       "Attachments       104\n",
       "Reactions       20077\n",
       "dtype: int64"
      ]
     },
     "execution_count": 19,
     "metadata": {},
     "output_type": "execute_result"
    }
   ],
   "source": [
    "df.count()"
   ]
  },
  {
   "cell_type": "markdown",
   "metadata": {},
   "source": [
    "### Data Analysis"
   ]
  },
  {
   "cell_type": "markdown",
   "metadata": {},
   "source": [
    "Before we can work on the date column, we need to first convert it to `datetime` objects from plain text. <br> Reference: https://pandas.pydata.org/docs/dev/getting_started/intro_tutorials/09_timeseries.html"
   ]
  },
  {
   "cell_type": "code",
   "execution_count": 20,
   "metadata": {},
   "outputs": [],
   "source": [
    "df['Date'] = pd.to_datetime(df['Date'])"
   ]
  },
  {
   "cell_type": "code",
   "execution_count": 21,
   "metadata": {},
   "outputs": [],
   "source": [
    "# UNUSED\n",
    "\n",
    "#df['Day'] = pd.to_datetime(df['Date'], format='%m/%d/%y')\n",
    "#df['Day'] = df['Date'].dt.strftime('%y-%m-%d')\n",
    "#df['Day'] = pd.to_datetime(df['Day'])\n",
    "\n",
    "#df = df.drop('Day', 1)"
   ]
  },
  {
   "cell_type": "markdown",
   "metadata": {},
   "source": [
    "Verify:"
   ]
  },
  {
   "cell_type": "code",
   "execution_count": 22,
   "metadata": {},
   "outputs": [
    {
     "data": {
      "text/html": [
       "<div>\n",
       "<style scoped>\n",
       "    .dataframe tbody tr th:only-of-type {\n",
       "        vertical-align: middle;\n",
       "    }\n",
       "\n",
       "    .dataframe tbody tr th {\n",
       "        vertical-align: top;\n",
       "    }\n",
       "\n",
       "    .dataframe thead th {\n",
       "        text-align: right;\n",
       "    }\n",
       "</style>\n",
       "<table border=\"1\" class=\"dataframe\">\n",
       "  <thead>\n",
       "    <tr style=\"text-align: right;\">\n",
       "      <th></th>\n",
       "      <th>AuthorID</th>\n",
       "      <th>Author</th>\n",
       "      <th>Date</th>\n",
       "      <th>Content</th>\n",
       "      <th>Attachments</th>\n",
       "      <th>Reactions</th>\n",
       "    </tr>\n",
       "  </thead>\n",
       "  <tbody>\n",
       "    <tr>\n",
       "      <th>130210</th>\n",
       "      <td>432610292342587392</td>\n",
       "      <td>Mudae#0807</td>\n",
       "      <td>2022-02-15 10:20:00</td>\n",
       "      <td>🍑 **Raviolla** just claimed **Black Wyrm** 🍑 !...</td>\n",
       "      <td>NaN</td>\n",
       "      <td>NaN</td>\n",
       "    </tr>\n",
       "    <tr>\n",
       "      <th>130211</th>\n",
       "      <td>453210960182640650</td>\n",
       "      <td>Raviolla#5477</td>\n",
       "      <td>2022-02-15 10:20:00</td>\n",
       "      <td>$w</td>\n",
       "      <td>NaN</td>\n",
       "      <td>NaN</td>\n",
       "    </tr>\n",
       "    <tr>\n",
       "      <th>130212</th>\n",
       "      <td>432610292342587392</td>\n",
       "      <td>Mudae#0807</td>\n",
       "      <td>2022-02-15 10:20:00</td>\n",
       "      <td>NaN</td>\n",
       "      <td>NaN</td>\n",
       "      <td>NaN</td>\n",
       "    </tr>\n",
       "    <tr>\n",
       "      <th>130213</th>\n",
       "      <td>453210960182640650</td>\n",
       "      <td>Raviolla#5477</td>\n",
       "      <td>2022-02-15 10:20:00</td>\n",
       "      <td>$w</td>\n",
       "      <td>NaN</td>\n",
       "      <td>NaN</td>\n",
       "    </tr>\n",
       "    <tr>\n",
       "      <th>130214</th>\n",
       "      <td>432610292342587392</td>\n",
       "      <td>Mudae#0807</td>\n",
       "      <td>2022-02-15 10:20:00</td>\n",
       "      <td>NaN</td>\n",
       "      <td>NaN</td>\n",
       "      <td>NaN</td>\n",
       "    </tr>\n",
       "  </tbody>\n",
       "</table>\n",
       "</div>"
      ],
      "text/plain": [
       "                  AuthorID         Author                Date  \\\n",
       "130210  432610292342587392     Mudae#0807 2022-02-15 10:20:00   \n",
       "130211  453210960182640650  Raviolla#5477 2022-02-15 10:20:00   \n",
       "130212  432610292342587392     Mudae#0807 2022-02-15 10:20:00   \n",
       "130213  453210960182640650  Raviolla#5477 2022-02-15 10:20:00   \n",
       "130214  432610292342587392     Mudae#0807 2022-02-15 10:20:00   \n",
       "\n",
       "                                                  Content Attachments  \\\n",
       "130210  🍑 **Raviolla** just claimed **Black Wyrm** 🍑 !...         NaN   \n",
       "130211                                                 $w         NaN   \n",
       "130212                                                NaN         NaN   \n",
       "130213                                                 $w         NaN   \n",
       "130214                                                NaN         NaN   \n",
       "\n",
       "       Reactions  \n",
       "130210       NaN  \n",
       "130211       NaN  \n",
       "130212       NaN  \n",
       "130213       NaN  \n",
       "130214       NaN  "
      ]
     },
     "execution_count": 22,
     "metadata": {},
     "output_type": "execute_result"
    }
   ],
   "source": [
    "df.tail()"
   ]
  },
  {
   "cell_type": "code",
   "execution_count": 23,
   "metadata": {},
   "outputs": [],
   "source": [
    "#df.groupby(df['Date'].dt.hour).count()\n",
    "#df.groupby(df['Day']).count()"
   ]
  },
  {
   "cell_type": "markdown",
   "metadata": {},
   "source": [
    "**Messages (Wishes) Per Day**"
   ]
  },
  {
   "cell_type": "code",
   "execution_count": 24,
   "metadata": {},
   "outputs": [
    {
     "name": "stdout",
     "output_type": "stream",
     "text": [
      "All: 130178\n",
      "Mudae only: 60222\n"
     ]
    }
   ],
   "source": [
    "# Verify:\n",
    "print(f\"All: {df['Author'].count()}\")\n",
    "print(f\"Mudae only: {df[df.Author == 'Mudae#0807']['Author'].count()}\")"
   ]
  },
  {
   "cell_type": "markdown",
   "metadata": {},
   "source": [
    "Because Slash Commands aren't counted, then each wish done traditionally would count twice (2) while Slash Command wishes would only count once (1). That means we should only count Mudae's responses to make it more representative of actual wish count. This still counts any non-Wish response by Mudae, but since Mudae only does one msg per cmd invoked, it's still better than the alternative."
   ]
  },
  {
   "cell_type": "code",
   "execution_count": 25,
   "metadata": {},
   "outputs": [
    {
     "data": {
      "text/plain": [
       "Text(0.5, 0, '')"
      ]
     },
     "execution_count": 25,
     "metadata": {},
     "output_type": "execute_result"
    },
    {
     "name": "stderr",
     "output_type": "stream",
     "text": [
      "C:\\ProgramData\\Anaconda3\\lib\\site-packages\\matplotlib\\backends\\backend_agg.py:238: RuntimeWarning: Glyph 127776 missing from current font.\n",
      "  font.set_text(s, 0.0, flags=flags)\n",
      "C:\\ProgramData\\Anaconda3\\lib\\site-packages\\matplotlib\\backends\\backend_agg.py:201: RuntimeWarning: Glyph 127776 missing from current font.\n",
      "  font.set_text(s, 0, flags=flags)\n"
     ]
    },
    {
     "data": {
      "image/png": "[encoded data removed]",
      "text/plain": [
       "<Figure size 1800x720 with 1 Axes>"
      ]
     },
     "metadata": {
      "needs_background": "light"
     },
     "output_type": "display_data"
    }
   ],
   "source": [
    "plot = df[df.Author == \"Mudae#0807\"]['Author'].groupby([df[\"Date\"].dt.year, df[\"Date\"].dt.month, df[\"Date\"].dt.day]).count().plot(kind=\"bar\", figsize=(25, 10))\n",
    "plot.set_title(\"Messages (Wishes) Per Day | #🌠┃wishing\")\n",
    "plot.set_xlabel(\"\")\n",
    "\n",
    "# Reference: https://stackoverflow.com/questions/27365467/can-pandas-plot-a-histogram-of-dates"
   ]
  },
  {
   "cell_type": "code",
   "execution_count": 26,
   "metadata": {},
   "outputs": [],
   "source": [
    "# Figure out how to do rolling averages\n",
    "#df['Date'].groupby([df[\"Date\"].dt.year, df[\"Date\"].dt.month, df[\"Date\"].dt.day]).count()"
   ]
  },
  {
   "cell_type": "markdown",
   "metadata": {},
   "source": [
    "**Messages (Wishes) Per Hour of the Day**"
   ]
  },
  {
   "cell_type": "code",
   "execution_count": 27,
   "metadata": {},
   "outputs": [
    {
     "data": {
      "text/plain": [
       "Text(0.5, 0, 'Hour')"
      ]
     },
     "execution_count": 27,
     "metadata": {},
     "output_type": "execute_result"
    },
    {
     "data": {
      "image/png": "[encoded data removed]",
      "text/plain": [
       "<Figure size 864x288 with 1 Axes>"
      ]
     },
     "metadata": {
      "needs_background": "light"
     },
     "output_type": "display_data"
    }
   ],
   "source": [
    "fig, axs = plt.subplots(figsize=(12, 4))\n",
    "df.groupby(df[\"Date\"].dt.hour)[\"Author\"].count().plot(kind='bar', rot=0, ax=axs)\n",
    "\n",
    "plt.title(\"Messages (Wishes) Per Hour of the Day | #🌠┃wishing\");  # custom x label using matplotlib\n",
    "plt.xlabel(\"Hour\")\n",
    "\n",
    "# Reference: https://pandas.pydata.org/pandas-docs/dev/getting_started/intro_tutorials/09_timeseries.html"
   ]
  },
  {
   "cell_type": "markdown",
   "metadata": {},
   "source": [
    "**Messages (Wishes) Per Day of Week**"
   ]
  },
  {
   "cell_type": "code",
   "execution_count": 28,
   "metadata": {},
   "outputs": [
    {
     "data": {
      "text/plain": [
       "Text(0, 0.5, 'Count')"
      ]
     },
     "execution_count": 28,
     "metadata": {},
     "output_type": "execute_result"
    },
    {
     "data": {
      "image/png": "[encoded data removed]",
      "text/plain": [
       "<Figure size 864x288 with 1 Axes>"
      ]
     },
     "metadata": {
      "needs_background": "light"
     },
     "output_type": "display_data"
    }
   ],
   "source": [
    "fig, axs = plt.subplots(figsize=(12, 4))\n",
    "df.groupby(df[\"Date\"].dt.dayofweek)[\"Author\"].count().plot(kind='bar', rot=0, ax=axs)\n",
    "\n",
    "plt.xlabel(\"dayofweek\");  # custom x label using matplotlib\n",
    "plt.ylabel(\"Count\")"
   ]
  },
  {
   "cell_type": "markdown",
   "metadata": {},
   "source": [
    "**Sweatiest Mudae Player**"
   ]
  },
  {
   "cell_type": "code",
   "execution_count": 29,
   "metadata": {},
   "outputs": [],
   "source": [
    "df_no_mudae = df.copy()"
   ]
  },
  {
   "cell_type": "markdown",
   "metadata": {},
   "source": [
    "Exlude `Mudae#0807` from the dataset"
   ]
  },
  {
   "cell_type": "code",
   "execution_count": 30,
   "metadata": {},
   "outputs": [],
   "source": [
    "df_no_mudae = df_no_mudae.drop(df_no_mudae[df_no_mudae['Author'] == \"Mudae#0807\"].index)"
   ]
  },
  {
   "cell_type": "code",
   "execution_count": 31,
   "metadata": {},
   "outputs": [
    {
     "data": {
      "text/plain": [
       "Text(0.5, 0, 'Message (Wish) Count')"
      ]
     },
     "execution_count": 31,
     "metadata": {},
     "output_type": "execute_result"
    },
    {
     "data": {
      "image/png": "[encoded data removed]",
      "text/plain": [
       "<Figure size 432x288 with 1 Axes>"
      ]
     },
     "metadata": {
      "needs_background": "light"
     },
     "output_type": "display_data"
    }
   ],
   "source": [
    "plot = df_no_mudae['Author'].groupby(df['Author']).count().sort_values(ascending=True).plot(kind=\"barh\")\n",
    "plot.set_title(\"Sweatiest Mudae Player\")\n",
    "plot.set_ylabel(\"\")\n",
    "plot.set_xlabel(\"Message (Wish) Count\")"
   ]
  },
  {
   "cell_type": "markdown",
   "metadata": {},
   "source": [
    "Note: The above is biased towards users with less tendency to use Slash Commands. This is because Slash Commands inputs aren't able to be included in the dataset."
   ]
  },
  {
   "cell_type": "markdown",
   "metadata": {},
   "source": [
    "**Ratio of Alt Abusers**"
   ]
  },
  {
   "cell_type": "code",
   "execution_count": 32,
   "metadata": {},
   "outputs": [
    {
     "name": "stdout",
     "output_type": "stream",
     "text": [
      "['kyoya#1101' 'Daniel0331#0560' 'gumer#4279' 'CallMeTreb#1183'\n",
      " 'Lucashrielze6913#9712' 'Raviolla#5477' 'albertibay#1663' 'sunnyrua#4032'\n",
      " 'AC#3949' 'kyoya2#6627' 'Danyeeel_#6535' 'emgumi69420#8911'\n",
      " 'KamisatoAyato69420#8195' 'ravioli#0974' 'YaeMilk69420#9566'\n",
      " 'disablebot69420#4303']\n",
      "16\n"
     ]
    }
   ],
   "source": [
    "# Verify:\n",
    "print(df_with_alt['Author'].unique())\n",
    "print(df_with_alt['Author'].nunique())"
   ]
  },
  {
   "cell_type": "code",
   "execution_count": 33,
   "metadata": {},
   "outputs": [],
   "source": [
    "df_alt_abuser = df_with_alt.copy()"
   ]
  },
  {
   "cell_type": "code",
   "execution_count": 34,
   "metadata": {},
   "outputs": [],
   "source": [
    "data = [['Raviolla#5477', df_alt_abuser[df_alt_abuser.Author == \"ravioli#0974\"]['Author'].count() / df_alt_abuser[df_alt_abuser.Author == \"Raviolla#5477\"]['Author'].count()],\n",
    "        ['Daniel0331#0560', df_alt_abuser[df_alt_abuser.Author == \"Danyeeel_#6535\"]['Author'].count() / df_alt_abuser[df_alt_abuser.Author == \"Daniel0331#0560\"]['Author'].count()],\n",
    "        ['kyoya#1101', df_alt_abuser[df_alt_abuser.Author == \"kyoya2#6627\"]['Author'].count() / df_alt_abuser[df_alt_abuser.Author == \"kyoya#1101\"]['Author'].count()],\n",
    "        ['Lucashrielze6913#9712', df_alt_abuser[df_alt_abuser.Author == \"YaeMilk69420#9566\"]['Author'].count() / df_alt_abuser[df_alt_abuser.Author == \"Lucashrielze6913#9712\"]['Author'].count()],\n",
    "        ['AC#3949', df_alt_abuser[df_alt_abuser.Author == \"KamisatoAyato69420#8195\"]['Author'].count() / df_alt_abuser[df_alt_abuser.Author == \"AC#3949\"]['Author'].count()],\n",
    "        ['gumer#4279', df_alt_abuser[df_alt_abuser.Author == \"emgumi69420#8911\"]['Author'].count() / df_alt_abuser[df_alt_abuser.Author == \"gumer#4279\"]['Author'].count()],\n",
    "        ['sunnyrua#4032', df_alt_abuser[df_alt_abuser.Author == \"disablebot69420#4303\"]['Author'].count() / df_alt_abuser[df_alt_abuser.Author == \"sunnyrua#4032\"]['Author'].count()],\n",
    "        ['CallMeTreb#1183', df_alt_abuser[df_alt_abuser.Author == \"albertibay#1663\"]['Author'].count() / df_alt_abuser[df_alt_abuser.Author == \"CallMeTreb#1183\"]['Author'].count()]\n",
    "]"
   ]
  },
  {
   "cell_type": "code",
   "execution_count": 35,
   "metadata": {},
   "outputs": [],
   "source": [
    "df_alt_abuser_ratio = pd.DataFrame(data, columns=['Name', 'Ratio'])"
   ]
  },
  {
   "cell_type": "code",
   "execution_count": 36,
   "metadata": {},
   "outputs": [
    {
     "data": {
      "text/plain": [
       "Text(0, 0.5, '')"
      ]
     },
     "execution_count": 36,
     "metadata": {},
     "output_type": "execute_result"
    },
    {
     "data": {
      "image/png": "[encoded data removed]",
      "text/plain": [
       "<Figure size 432x288 with 1 Axes>"
      ]
     },
     "metadata": {
      "needs_background": "light"
     },
     "output_type": "display_data"
    }
   ],
   "source": [
    "plot = df_alt_abuser_ratio.sort_values(by='Ratio', ascending=True).plot(x='Name', kind=\"barh\")\n",
    "plot.set_xlabel(\"Message Count of Alt ÷ Message Count of Main\")\n",
    "plot.set_title(\"Alt Abuse Ratio\")\n",
    "plot.set_ylabel(\"\")"
   ]
  }
 ],
 "metadata": {
  "interpreter": {
   "hash": "b3ba2566441a7c06988d0923437866b63cedc61552a5af99d1f4fb67d367b25f"
  },
  "kernelspec": {
   "display_name": "Python 3.8.8 ('base')",
   "language": "python",
   "name": "python3"
  },
  "language_info": {
   "codemirror_mode": {
    "name": "ipython",
    "version": 3
   },
   "file_extension": ".py",
   "mimetype": "text/x-python",
   "name": "python",
   "nbconvert_exporter": "python",
   "pygments_lexer": "ipython3",
   "version": "3.8.8"
  },
  "orig_nbformat": 4
 },
 "nbformat": 4,
 "nbformat_minor": 2
}
