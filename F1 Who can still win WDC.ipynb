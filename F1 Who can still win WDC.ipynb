{
  "cells": [
    {
      "cell_type": "markdown",
      "metadata": {},
      "source": [
        "# Who can still win the drivers WDC?\n",
        "\n",
        "Lifted from: https://docs.fastf1.dev/gen_modules/examples_gallery/plot_who_can_still_win_wdc.html\n",
        "\n",
        "Calculates which drivers still has chance to win the WDC.\n",
        "Simplified since it doesn't compare positions if points are equal.\n",
        "\n",
        "This example implements 3 functions that it then uses to calculate\n",
        "its result.\n"
      ]
    },
    {
      "cell_type": "code",
      "execution_count": 13,
      "metadata": {
        "collapsed": false
      },
      "outputs": [],
      "source": [
        "import fastf1\n",
        "from fastf1.ergast import Ergast"
      ]
    },
    {
      "cell_type": "markdown",
      "metadata": {},
      "source": [
        "For this example, we are looking at the 2025 season.\n",
        "We want to know who can theoretically still win the drivers' championship\n",
        "after the first 16 races.\n",
        "\n"
      ]
    },
    {
      "cell_type": "code",
      "execution_count": 14,
      "metadata": {
        "collapsed": false
      },
      "outputs": [],
      "source": [
        "SEASON = 2025\n",
        "ROUND = 16"
      ]
    },
    {
      "cell_type": "markdown",
      "metadata": {},
      "source": [
        "Get the current driver standings from Ergast.\n",
        "Reference https://docs.fastf1.dev/ergast.html#fastf1.ergast.Ergast.get_driver_standings\n",
        "\n"
      ]
    },
    {
      "cell_type": "code",
      "execution_count": 15,
      "metadata": {
        "collapsed": false
      },
      "outputs": [],
      "source": [
        "def get_drivers_standings():\n",
        "    ergast = Ergast()\n",
        "    standings = ergast.get_driver_standings(season=SEASON, round=ROUND)\n",
        "    return standings.content[0]"
      ]
    },
    {
      "cell_type": "markdown",
      "metadata": {},
      "source": [
        "We need a function to calculates the maximum amount of points possible if a\n",
        "driver wins everything left of the season.\n",
        "https://en.wikipedia.org/wiki/List_of_Formula_One_World_Championship_points_scoring_systems\n",
        "\n"
      ]
    },
    {
      "cell_type": "code",
      "execution_count": 16,
      "metadata": {
        "collapsed": false
      },
      "outputs": [],
      "source": [
        "def calculate_max_points_for_remaining_season():\n",
        "    POINTS_FOR_SPRINT = 8 + 25 # Winning the sprint and race\n",
        "    POINTS_FOR_CONVENTIONAL = 25 # Winning the race\n",
        "\n",
        "    events = fastf1.events.get_event_schedule(SEASON, backend='ergast')\n",
        "    events = events[events['RoundNumber'] > ROUND]\n",
        "    # Count how many sprints and conventional races are left\n",
        "    sprint_events = len(events.loc[events[\"EventFormat\"] == \"sprint_shootout\"])\n",
        "    conventional_events = len(events.loc[events[\"EventFormat\"] == \"conventional\"])\n",
        "\n",
        "    # Calculate points for each\n",
        "    sprint_points = sprint_events * POINTS_FOR_SPRINT\n",
        "    conventional_points = conventional_events * POINTS_FOR_CONVENTIONAL\n",
        "\n",
        "    return sprint_points + conventional_points"
      ]
    },
    {
      "cell_type": "markdown",
      "metadata": {},
      "source": [
        "For each driver we will see if there is a chance to get more points than\n",
        "the current leader. We assume the leader gets no more points and the\n",
        "driver gets the theoretical maximum amount of points.\n",
        "\n",
        "We currently don't consider the case of two drivers getting equal points\n",
        "since its more complicated and would require comparing positions.\n",
        "\n"
      ]
    },
    {
      "cell_type": "code",
      "execution_count": 17,
      "metadata": {
        "collapsed": false
      },
      "outputs": [],
      "source": [
        "def calculate_who_can_win(driver_standings, max_points):\n",
        "    LEADER_POINTS = int(driver_standings.loc[0]['points'])\n",
        "\n",
        "    for i, _ in enumerate(driver_standings.iterrows()):\n",
        "        driver = driver_standings.loc[i]\n",
        "        driver_max_points = int(driver[\"points\"]) + max_points\n",
        "        can_win = 'No' if driver_max_points < LEADER_POINTS else 'Yes'\n",
        "\n",
        "        print(f\"{driver['position']}: {driver['givenName'] + ' ' + driver['familyName']}, \"\n",
        "              f\"Current points: {driver['points']}, \"\n",
        "              f\"Theoretical max points: {driver_max_points}, \"\n",
        "              f\"Can win: {can_win}\")"
      ]
    },
    {
      "cell_type": "markdown",
      "metadata": {},
      "source": [
        "Now using the 3 functions above we can use them to calculate who\n",
        "can still win.\n",
        "\n"
      ]
    },
    {
      "cell_type": "code",
      "execution_count": 18,
      "metadata": {
        "collapsed": false
      },
      "outputs": [
        {
          "name": "stdout",
          "output_type": "stream",
          "text": [
            "1: Oscar Piastri, Current points: 324.0, Theoretical max points: 449, Can win: Yes\n",
            "2: Lando Norris, Current points: 293.0, Theoretical max points: 418, Can win: Yes\n",
            "3: Max Verstappen, Current points: 230.0, Theoretical max points: 355, Can win: Yes\n",
            "4: George Russell, Current points: 194.0, Theoretical max points: 319, Can win: No\n",
            "5: Charles Leclerc, Current points: 163.0, Theoretical max points: 288, Can win: No\n",
            "6: Lewis Hamilton, Current points: 117.0, Theoretical max points: 242, Can win: No\n",
            "7: Alexander Albon, Current points: 70.0, Theoretical max points: 195, Can win: No\n",
            "8: Andrea Kimi Antonelli, Current points: 66.0, Theoretical max points: 191, Can win: No\n",
            "9: Isack Hadjar, Current points: 38.0, Theoretical max points: 163, Can win: No\n",
            "10: Nico Hülkenberg, Current points: 37.0, Theoretical max points: 162, Can win: No\n",
            "11: Lance Stroll, Current points: 32.0, Theoretical max points: 157, Can win: No\n",
            "12: Fernando Alonso, Current points: 30.0, Theoretical max points: 155, Can win: No\n",
            "13: Esteban Ocon, Current points: 28.0, Theoretical max points: 153, Can win: No\n",
            "14: Pierre Gasly, Current points: 20.0, Theoretical max points: 145, Can win: No\n",
            "15: Liam Lawson, Current points: 20.0, Theoretical max points: 145, Can win: No\n",
            "16: Gabriel Bortoleto, Current points: 18.0, Theoretical max points: 143, Can win: No\n",
            "17: Oliver Bearman, Current points: 16.0, Theoretical max points: 141, Can win: No\n",
            "18: Carlos Sainz, Current points: 16.0, Theoretical max points: 141, Can win: No\n",
            "19: Yuki Tsunoda, Current points: 12.0, Theoretical max points: 137, Can win: No\n",
            "20: Franco Colapinto, Current points: 0.0, Theoretical max points: 125, Can win: No\n",
            "21: Jack Doohan, Current points: 0.0, Theoretical max points: 125, Can win: No\n"
          ]
        }
      ],
      "source": [
        "# Get the current drivers standings\n",
        "driver_standings = get_drivers_standings()\n",
        "\n",
        "# Get the maximum amount of points\n",
        "points = calculate_max_points_for_remaining_season()\n",
        "\n",
        "# Print which drivers can still win\n",
        "calculate_who_can_win(driver_standings, points)"
      ]
    }
  ],
  "metadata": {
    "kernelspec": {
      "display_name": "venv",
      "language": "python",
      "name": "python3"
    },
    "language_info": {
      "codemirror_mode": {
        "name": "ipython",
        "version": 3
      },
      "file_extension": ".py",
      "mimetype": "text/x-python",
      "name": "python",
      "nbconvert_exporter": "python",
      "pygments_lexer": "ipython3",
      "version": "3.13.5"
    }
  },
  "nbformat": 4,
  "nbformat_minor": 0
}
